{
 "metadata": {
  "kernelspec": {
   "display_name": "SageMath",
   "language": "python",
   "name": "sagemath"
  },
  "language_info": {
   "codemirror_mode": {
    "name": "ipython",
    "version": 2
   },
   "file_extension": ".py",
   "mimetype": "text/x-python",
   "name": "python",
   "nbconvert_exporter": "python",
   "pygments_lexer": "ipython2",
   "version": "2.7.12+"
  }
 },
 "nbformat": 4,
 "nbformat_minor": 4,
 "cells": [
  {
   "metadata": {
    "collapsed": false
   },
   "cell_type": "code",
   "source": [
    "%hide\n",
    "latex.add_to_preamble('\\usepackage{color}')\n",
    "latex.add_to_preamble('\\definecolor{blue}{rgb}{0,0,1}')\n",
    "latex.add_to_preamble('\\definecolor{dkblue}{rgb}{0,0,0.3}')\n",
    "latex.add_to_preamble('\\definecolor{red}{rgb}{1,0,0}')\n",
    "latex.add_to_preamble('\\definecolor{dkred}{rgb}{0.4,0.01,0.01}')\n",
    "latex.add_to_preamble('\\definecolor{dkgreen}{rgb}{0.01,0.3,0.01}')\n",
    "latex.add_to_preamble('\\setlength{\\parindent}{0in}')"
   ]
  },
  {
   "metadata": {
    "collapsed": false
   },
   "cell_type": "code",
   "source": [
    "%hide\n",
    "%latex\n",
    "%\\begin{center}\n",
    "\\section*{\\color{dkred}3d graphics}\n",
    "%\\end{center}\n",
    "\n",
    "\\noindent\n",
    "Sage offers the possibility of making several different kinds \n",
    "of 3D graphical objects.  Some of them are more frequently \n",
    "needed in routine mathematical work than others. \n",
    "We will cover the following types of 3D graphics here:\n",
    "\\begin{enumerate}\n",
    "  \\item Plots of $z=f(x,y)$ types of functions:\n",
    "  \\begin{itemize}\n",
    "    \\item[a.] Surface plots\n",
    "    \\item[b.] Contour plots\n",
    "  \\end{itemize}\n",
    "  \\item Implicit plots\n",
    "  \\item Parametric plots\n",
    "  \\item Surfaces of revolution\n",
    "  \\item Plots of discrete data\n",
    "\\end{enumerate}\n",
    "\n",
    "Additionally, many standard 3D shapes (such as spheres, cubes, \n",
    "cones, etc.) have pre-built commands with intuitive inputs. \\\\\n",
    "\n",
    "The following web pointer has more extensive information on \n",
    "3d graphics, and numerous examples:"
   ]
  },
  {
   "metadata": {
    "collapsed": false
   },
   "cell_type": "code",
   "source": [
    "%hide\n",
    "%html\n",
    "<A HREF=\"https://doc.sagemath.org/html/en/reference/plot3d/\">\n",
    "https://doc.sagemath.org/html/en/reference/plot3d/</A>"
   ]
  },
  {
   "metadata": {
    "collapsed": false
   },
   "cell_type": "code",
   "source": [
    "%hide\n",
    "%latex\n",
    "\\color{dkgreen}\n",
    "Example 1: Plot $f(x,y)=y^2-x^2$ on the domain $(-1,1)\\times (-1,1)$ \\\\\n",
    "\n",
    "We will use the {\\tt plot3d} command with the minimum necessary inputs, \n",
    "which is 3.  The command also takes numerous optional inputs, some of \n",
    "which we will see later."
   ]
  },
  {
   "metadata": {
    "collapsed": false
   },
   "cell_type": "code",
   "source": [
    "x, y = var('x, y')\n",
    "plot3d(y^2-x^2, (x,-1,1), (y,-1,1))\n",
    "print('\\n')\n",
    "print('You can click and rotate the image to view it from different angles')"
   ]
  },
  {
   "metadata": {
    "collapsed": false
   },
   "cell_type": "code",
   "source": [
    "%hide\n",
    "%latex\n",
    "\\color{dkgreen}\n",
    "Continuing with Example 1, let's look at a contour plot of the same function.  \n",
    "Again, we will run the command with the minimum necessary inputs, although \n",
    "it offers a lot more options.   Note that {\\tt colorbar} and {\\tt axes\\_labels} \n",
    "are optional, but we've included them because they are extremely uesful."
   ]
  },
  {
   "metadata": {
    "collapsed": false
   },
   "cell_type": "code",
   "source": [
    "x, y = var('x, y')\n",
    "contour_plot(y^2-x^2, (x,-1,1), (y,-1,1), colorbar=True, axes_labels=['$x$', '$y$'])"
   ]
  },
  {
   "metadata": {
    "collapsed": false
   },
   "cell_type": "code",
   "source": [
    "%hide\n",
    "%latex\n",
    "\\color{dkgreen}\n",
    "Example 1 continued: \\\\\n",
    "What does the contour plot show that the surface plot does not? \\\\\n",
    "Conversely, what does the surface plot show that the contour plot doesn't?"
   ]
  },
  {
   "metadata": {
    "collapsed": false
   },
   "cell_type": "code",
   "source": [
    "%hide\n",
    "%latex\n",
    "Implicit plots use the {\\tt implicit\\_plot3d} command. \\\\[6pt]\n",
    "\\color{dkgreen}\n",
    "Example 2: Plot the implicit surface $\\cos(xy) = x^2-xz-y+\\sin(z)$"
   ]
  },
  {
   "metadata": {
    "collapsed": false
   },
   "cell_type": "code",
   "source": [
    "x, y, z = var('x, y, z')\n",
    "implicit_plot3d( cos(x*y)==x^2 - x*z - y + sin(z), (x,-3,3), (y,-2,2), (z,-3,3) )"
   ]
  },
  {
   "metadata": {
    "collapsed": false
   },
   "cell_type": "code",
   "source": [
    "%hide\n",
    "%latex\n",
    "3D parametric plots are oriented curves or surfaces, depending on \n",
    "the number of parameters involved. \\\\[6pt]\n",
    "\\color{dkgreen}\n",
    "Example 3.1 (1-parameter): Plot $x=t\\;\\cos t, ~~ y = t\\;\\sin t, ~~ z=t$"
   ]
  },
  {
   "metadata": {
    "collapsed": false
   },
   "cell_type": "code",
   "source": [
    "t = var('t')\n",
    "parametric_plot( ( t*cos(t), t*sin(t), t ), (t,-pi/2,pi) , thickness=3 )"
   ]
  },
  {
   "metadata": {
    "collapsed": false
   },
   "cell_type": "code",
   "source": [
    "%hide\n",
    "%latex\n",
    "\\color{dkgreen}\n",
    "Example 3.2 (2-parameters): Plot $x=s\\;\\cos t, ~~ y = s\\;\\sin t, ~~ z=t$"
   ]
  },
  {
   "metadata": {
    "collapsed": false
   },
   "cell_type": "code",
   "source": [
    "s, t = var('s t')\n",
    "parametric_plot( ( s*cos(t), s*sin(t), t ), (s,-pi,pi), (t,-pi/2,pi) )"
   ]
  },
  {
   "metadata": {
    "collapsed": false
   },
   "cell_type": "code",
   "source": [
    "%hide\n",
    "%latex\n",
    "\\color{dkblue}\n",
    "Exercise: Plot each of the following as instructed\n",
    "\\begin{enumerate}\n",
    "  \\item $z=3x^2y - 5x + y$, on some suitable domain. \n",
    "  Include a surface plot and a contour plot.\n",
    "  \\item $x=\\sin s \\cdot \\cos t$, $y=s\\cdot \\sin t$, $z=e^{-t}$, \n",
    "  for $s, t \\in [-\\pi, 2\\pi]$.\n",
    "  \\item $x^2+y^2=z^2$, on $x, y, z \\in [-3,3]$\n",
    "  \\item $(x^2+(9/4)y^2+z^2-1)^3 -x^2z^3 - (9/80)y^2 z^3 = 0$, \n",
    "    on $x, y, z \\in [-1.5,1.5]$, with red color.\n",
    "\\end{enumerate}"
   ]
  },
  {
   "metadata": {
    "collapsed": false
   },
   "cell_type": "code",
   "source": [
    "%hide\n",
    "%latex\n",
    "\n",
    "\\subsubsection*{\\color{dkred}Surfaces of revolution}\n",
    "\n",
    "Surfaces of revolution can be done in a wide variety of ways, \n",
    "and comprise a very powerful tool to visualize 3D shapes.  \n",
    "The general command we will use is {\\tt revolution\\_plot3d}.  This \n",
    "command takes many optional inputs, whose usage is best learned \n",
    "through experimenting.  The web pointer given below provides details \n",
    "and numerous examples of the usage of the {\\tt revolution\\_plot3d} \n",
    "command"
   ]
  },
  {
   "metadata": {
    "collapsed": false
   },
   "cell_type": "code",
   "source": [
    "%hide\n",
    "%html\n",
    "<A HREF=\"https://doc.sagemath.org/html/en/reference/plot3d/sage/plot/plot3d/revolution_plot3d.html\">\n",
    "https://doc.sagemath.org/html/en/reference/plot3d/sage/plot/plot3d/revolution_plot3d.html</A>"
   ]
  },
  {
   "metadata": {
    "collapsed": false
   },
   "cell_type": "code",
   "source": [
    "%hide\n",
    "%latex\n",
    "\\color{dkgreen}\n",
    "Example 4a: We will plot several different surfaces using the same basic \n",
    "function to illustrate what is really going on here.  By default, a \n",
    "$y=f(x)$ type of function revolves around the $z-axis$, and the range \n",
    "of $x$ determines what specific surface is generated. In this example, \n",
    "$y=\\sin x$, and 3 $x$-ranges will be considered: $(0,\\pi)$, $(\\pi,2\\pi)$, \n",
    "$(-\\pi,\\pi)$. Be sure to click and rotate each plot to understand exactly \n",
    "what is being plotted."
   ]
  },
  {
   "metadata": {
    "collapsed": false
   },
   "cell_type": "code",
   "source": [
    "x, y = var('x, y')\n",
    "y = (sin(x))\n",
    "revolution_plot3d(y, (x,0,pi))\n",
    "revolution_plot3d(y, (x,pi,2*pi))\n",
    "revolution_plot3d(y, (x,-pi,pi))"
   ]
  },
  {
   "metadata": {
    "collapsed": false
   },
   "cell_type": "code",
   "source": [
    "%hide\n",
    "%latex\n",
    "\\color{dkgreen}\n",
    "Example 4b: You can also define the curve in parametric form.  \n",
    "This is shown below for the same function $y=\\sin(x)$, and then for \n",
    "a new function: $x=t+\\sin(2t), y=t+\\cos t$."
   ]
  },
  {
   "metadata": {
    "collapsed": false
   },
   "cell_type": "code",
   "source": [
    "# First, the same function as the one above\n",
    "t = var('t')\n",
    "curve = (t, sin(t))\n",
    "revolution_plot3d(curve, (t,0,pi))\n",
    "\n",
    "# Next, the new example\n",
    "curve = (t+sin(2*t), t+cos(t))\n",
    "revolution_plot3d(curve, (t,0,2*pi), show_curve=true)"
   ]
  },
  {
   "metadata": {
    "collapsed": false
   },
   "cell_type": "code",
   "source": [
    "%hide\n",
    "%latex\n",
    "\\color{dkgreen}\n",
    "Next, let's look at how a small change in the range of the parameter gives \n",
    "a result that looks very different (see plot below):"
   ]
  },
  {
   "metadata": {
    "collapsed": false
   },
   "cell_type": "code",
   "source": [
    "t = var('t')\n",
    "curve = (t+sin(2*t), t+cos(t))\n",
    "revolution_plot3d(curve, (t,-pi,4*pi), show_curve=true)"
   ]
  },
  {
   "metadata": {
    "collapsed": false
   },
   "cell_type": "code",
   "source": [
    "%hide\n",
    "%latex\n",
    "\\color{dkgreen}\n",
    "It is easy to change the axis of rotation to, say, $x$, \n",
    "and include some interesting new options in the plot command"
   ]
  },
  {
   "metadata": {
    "collapsed": false
   },
   "cell_type": "code",
   "source": [
    "t = var('t')\n",
    "curve = (t+sin(2*t), t+cos(t))\n",
    "revolution_plot3d(curve, (t,-pi,4*pi), parallel_axis='x', color='green', opacity=0.5)"
   ]
  },
  {
   "metadata": {
    "collapsed": false
   },
   "cell_type": "code",
   "source": [
    "%hide\n",
    "%latex\n",
    "\\color{dkgreen}\n",
    "Example 4c: A common exercise in calculus textbooks is to find the \n",
    "volume between two surfaces of revolution, for example, between \n",
    "the line $y=x$ and the curve $y=\\sqrt{x}$ in the region $x=0$ to $x=1$.  \n",
    "The following plot provides visual aid for this example."
   ]
  },
  {
   "metadata": {
    "collapsed": false
   },
   "cell_type": "code",
   "source": [
    "x, y = var('x y')\n",
    "p = revolution_plot3d(x, (x,0,1), parallel_axis='x', rgbcolor=(1,0.5,0), opacity=0.7)\n",
    "q = revolution_plot3d(x^0.5, (x,0,1), parallel_axis='x', rgbcolor=(0,1,0), opacity=0.2)\n",
    "show(p+q)"
   ]
  },
  {
   "metadata": {
    "collapsed": false
   },
   "cell_type": "code",
   "source": [
    "# And here is a very interesting example I found from sagemath.sfasu.edu/home/pub/43/\n",
    "# It defines a piecewise curve, rotates it about the x-axis, and then computes \n",
    "# the volume of the resulting shape by integration.\n",
    "x = var('x')\n",
    "f1 = -(1/pi*(x-pi))^2+3\n",
    "f2 = 0.125*sin(x) + 2.875\n",
    "f3 = 1.875/(6*pi-22)*(x-22) + 1\n",
    "f4 = 1\n",
    "f = piecewise( [ ((0,3*pi/2),f1), ((3*pi/2,6*pi),f2), ((6*pi,22),f3), ((22,23),f4) ] )\n",
    "plot(f, (x,0,23), aspect_ratio=1)\n",
    "a = revolution_plot3d(f1, (x,0,3*pi/2), parallel_axis='x', aspect_ratio=1, color='chartreuse')\n",
    "b = revolution_plot3d(f2, (x,3*pi/2,6*pi), parallel_axis='x', color='violet')\n",
    "c = revolution_plot3d(f3, (x,6*pi,22), parallel_axis='x', color='aqua')\n",
    "d = revolution_plot3d(f4, (x,22,23), parallel_axis='x', color='brown')\n",
    "show(a+b+c+d, frame=False)\n",
    "# Compute the volume (exclude cap):\n",
    "vol = integral(pi*(f1)^2, x,0,3*pi/2) + integral(pi*(f2)^2, x,3*pi/2,6*pi) + integral(pi*(f3)^2, x, 6*pi, 22)\n",
    "print \"\\n Volume = %f\" % vol"
   ]
  },
  {
   "metadata": {
    "collapsed": false
   },
   "cell_type": "code",
   "source": [
    "%hide\n",
    "%latex\n",
    "Plots of discrete $(x,y,z)$ data can be made using methods \n",
    "similar to those we used for 2D data.  \\\\[6pt]\n",
    "\\color{dkgreen}\n",
    "Example 5: Plots the point-set  \\\\\n",
    "\\hspace*{3em} \\small \n",
    "$\\begin{array}{crrrrrrrr} x= & -4.8 & -3.1 & -2.2 & -0.7 & 0.2 & 2.5 & 4.0 & 5.6 \\\\ \n",
    "y= & 3.7 & 2.9 & 2.4 & 2.2 & 3.5 & 5.8 & 9.6 & 6.3  \\\\\n",
    "z= & 0 & 1 & 2 & 3 & 4 & 5 & 6 & 7 \n",
    "\\end{array}$"
   ]
  },
  {
   "metadata": {
    "collapsed": false
   },
   "cell_type": "code",
   "source": [
    "xl = [-4.8, -3.1, -2.2, -0.7, 0.2, 2.5, 4.0, 5.6]\n",
    "yl = [3.7, 2.9, 2.4, 2.2, 3.5, 5.8, 9.6, 6.3]\n",
    "zl = [0, 1, 2, 3, 4, 5, 6, 7]\n",
    "datapoints = zip(xl, yl, zl)   # The \"zip\" command creates matched pairs from separate lists.\n",
    "line(datapoints)\n",
    "point(datapoints)\n",
    "list_plot3d([datapoints])"
   ]
  },
  {
   "metadata": {
    "collapsed": false
   },
   "cell_type": "code",
   "source": [
    "# Plot of 2 planes and their line of intersection.\n",
    "# The strategy is to figure out the equation of the line in parametric form.\n",
    "# E.g.: Let x=t; set f(x,y) == g(x,y) and find y=h(t); \n",
    "#       plugin (t, h(t)) for (x, y) in any one of f(x,y) or g(x,y).\n",
    "\n",
    "x, y = var('x, y')\n",
    "p = plot3d(3*x-2*y+0.5, (x,-5,5), (y,-5,5), opacity=0.3)\n",
    "q = plot3d(-x+3*y-1.5, (x,-5,5), (y,-5,5), color='green', opacity=0.3)\n",
    "t = var('t')\n",
    "r = parametric_plot( ( t, (4*t+2.0)/5.0, 3*t-0.4*(4*t+2.0)+0.5 ), (t,-5.5,5.5), color='black', thickness=3 )\n",
    "show(p+q+r)"
   ]
  }
 ]
}