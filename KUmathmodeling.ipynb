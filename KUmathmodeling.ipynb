{
 "cells": [
  {
   "cell_type": "markdown",
   "id": "f48756c1",
   "metadata": {},
   "source": [
    "# Mathematical modeling labs\n",
    "\n",
    "1. **Roller coaster design** <BR></BR>\n",
    "<FONT COLOR=\"#0000B6\">\n",
    "This module illustrates the use of smooth functions to model the \n",
    "track of roller coasters, and explores ways to optimize the \"thrill\" \n",
    "of the coaster. </FONT> <BR></BR>\n",
    "    Launch jupyter notebook: &nbsp; <A HREF=\"./roller_coaster/roller_coaster_modeling.ipynb\">\n",
    "    [View only]</A> &nbsp; \n",
    "    <A HREF=\"https://mybinder.org/v2/gh/Pardhanani/KU_mathmodeling/HEAD?labpath=roller_coaster%2Froller_coaster_modeling.ipynb\">[Interactive]</A>\n",
    "<P></P>\n",
    "\n",
    "2. **Forecasting future oil production rates**  <BR></BR>\n",
    "<FONT COLOR=\"#0000B6\">\n",
    "In this lab we use logistic functions to model and predict the annual \n",
    "rate of oil production in the United States and in the world. </FONT>\n",
    "<BR></BR>\n",
    "    Launch jupyter notebook: &nbsp; \n",
    "    <A HREF=\"./oil_production/oil_production.ipynb\">[View only]</A> &nbsp; \n",
    "    <A HREF=\"https://mybinder.org/v2/gh/Pardhanani/KU_mathmodeling/HEAD?labpath=oil_production%2Foil_production.ipynb\">[Interactive]</A>\n",
    "<P></P>\n",
    "\n",
    "3. **Modeling wind energy** <BR></BR>\n",
    "<FONT COLOR=\"#0000B6\">\n",
    "A strategy for estimating the energy produced by wind turbines \n",
    "is developed in this module.  It is used to assess the \n",
    "feasibility of transitioning to wind energy on a \n",
    "small college campus in the United States. </FONT>\n",
    "<BR></BR>\n",
    "    Launch jupyter notebook: &nbsp; \n",
    "    <A HREF=\"./wind_turbine/wind_turbine_model.ipynb\">[View only]</A> &nbsp; \n",
    "    <A HREF=\"https://mybinder.org/v2/gh/Pardhanani/KU_mathmodeling/HEAD?labpath=wind_turbine%2Fwind_turbine_model.ipynb\">[Interactive]</A>\n",
    "<P></P>\n",
    "\n",
    "4. **Saving the spotted owl from extinction** <BR></BR>\n",
    "<FONT COLOR=\"#0000B6\">\n",
    "The northern spotted owl in the United States is a threatened \n",
    "species that faces risk of extinction.  \n",
    "In this module, a difference equation system is used to study \n",
    "the owl's population trends. </FONT> <BR></BR>\n",
    "    Launch jupyter notebook: &nbsp; \n",
    "    <A HREF=\"./spotted_owl/spotted_owl.ipynb\">[View only]</A> &nbsp; \n",
    "    <A HREF=\"https://mybinder.org/v2/gh/Pardhanani/KU_mathmodeling/HEAD?labpath=spotted_owl%2Fspotted_owl.ipynb\">[Interactive]</A>\n",
    "<P></P>\n",
    "\n",
    "5. **Flood mitigation via canal networks** <BR></BR>\n",
    "<FONT COLOR=\"#0000B6\">\n",
    "Water canals in the city of Bangkok play a variety of functional \n",
    "roles, including drainage of flood waters.  \n",
    "In this lab we consider a simple canal \n",
    "network, and determine the best pumping and draining \n",
    "strategy during peak flooding events. </FONT>\n",
    "<BR></BR>\n",
    "    Launch jupyter notebook: &nbsp; \n",
    "    <A HREF=\"./bkk_canals/bkk_canal_networks.ipynb\">[View only]</A> &nbsp; \n",
    "    <A HREF=\"https://mybinder.org/v2/gh/Pardhanani/KU_mathmodeling/HEAD?labpath=bkk_canals%2Fbkk_canalnetworks.ipynb\">[Interactive]</A>\n",
    "<P></P>"
   ]
  },
  {
   "cell_type": "code",
   "execution_count": null,
   "id": "31dc164e",
   "metadata": {},
   "outputs": [],
   "source": []
  }
 ],
 "metadata": {
  "kernelspec": {
   "display_name": "Python 3",
   "language": "python",
   "name": "python3"
  },
  "language_info": {
   "codemirror_mode": {
    "name": "ipython",
    "version": 3
   },
   "file_extension": ".py",
   "mimetype": "text/x-python",
   "name": "python",
   "nbconvert_exporter": "python",
   "pygments_lexer": "ipython3",
   "version": "3.7.4"
  }
 },
 "nbformat": 4,
 "nbformat_minor": 5
}
